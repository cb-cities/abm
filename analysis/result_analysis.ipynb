{
 "metadata": {
  "language_info": {
   "codemirror_mode": {
    "name": "ipython",
    "version": 3
   },
   "file_extension": ".py",
   "mimetype": "text/x-python",
   "name": "python",
   "nbconvert_exporter": "python",
   "pygments_lexer": "ipython3",
   "version": 3
  },
  "orig_nbformat": 2,
  "kernelspec": {
   "name": "python_defaultSpec_1596556779758",
   "display_name": "Python 3.7.7 64-bit ('geo': conda)"
  }
 },
 "nbformat": 4,
 "nbformat_minor": 2,
 "cells": [
  {
   "cell_type": "code",
   "execution_count": 1,
   "metadata": {},
   "outputs": [],
   "source": [
    "import numpy as np\n",
    "import pandas as pd"
   ]
  },
  {
   "cell_type": "code",
   "execution_count": 42,
   "metadata": {},
   "outputs": [
    {
     "output_type": "execute_result",
     "data": {
      "text/plain": "    obs_grp  dir   start     end         Ｑ\n0         0    1  203569  139096  11473.50\n1         1    1  139096  251226   7893.50\n2         2    1  251226   19862   6475.00\n3         3    2  230024  305949   4738.75\n4         6    1  138546   11536  42489.67\n5         7    2  368763   11535  35759.80\n6         8    1   11536  339389  46855.17\n7        10    1  339389  628883  63007.00\n8        12    1  628883  628492  23232.00\n9        14    1  628492  641537  61197.00\n10       16    1  641537  642111  54577.00\n11       18    1  642111  642119  58823.00\n12       19    1  642119  167096  42185.00\n13       21    1  167096  167058  50071.00\n14       22    1  167058  617452  45473.00\n15       23    1  617452  167047  27404.00\n16       27    1  167047  205640  47970.00\n17       29    1  205640  205644  38931.00\n18       31    1  205644  583038  38042.00\n19       33    1  583038   46642  54249.00",
      "text/html": "<div>\n<style scoped>\n    .dataframe tbody tr th:only-of-type {\n        vertical-align: middle;\n    }\n\n    .dataframe tbody tr th {\n        vertical-align: top;\n    }\n\n    .dataframe thead th {\n        text-align: right;\n    }\n</style>\n<table border=\"1\" class=\"dataframe\">\n  <thead>\n    <tr style=\"text-align: right;\">\n      <th></th>\n      <th>obs_grp</th>\n      <th>dir</th>\n      <th>start</th>\n      <th>end</th>\n      <th>Ｑ</th>\n    </tr>\n  </thead>\n  <tbody>\n    <tr>\n      <th>0</th>\n      <td>0</td>\n      <td>1</td>\n      <td>203569</td>\n      <td>139096</td>\n      <td>11473.50</td>\n    </tr>\n    <tr>\n      <th>1</th>\n      <td>1</td>\n      <td>1</td>\n      <td>139096</td>\n      <td>251226</td>\n      <td>7893.50</td>\n    </tr>\n    <tr>\n      <th>2</th>\n      <td>2</td>\n      <td>1</td>\n      <td>251226</td>\n      <td>19862</td>\n      <td>6475.00</td>\n    </tr>\n    <tr>\n      <th>3</th>\n      <td>3</td>\n      <td>2</td>\n      <td>230024</td>\n      <td>305949</td>\n      <td>4738.75</td>\n    </tr>\n    <tr>\n      <th>4</th>\n      <td>6</td>\n      <td>1</td>\n      <td>138546</td>\n      <td>11536</td>\n      <td>42489.67</td>\n    </tr>\n    <tr>\n      <th>5</th>\n      <td>7</td>\n      <td>2</td>\n      <td>368763</td>\n      <td>11535</td>\n      <td>35759.80</td>\n    </tr>\n    <tr>\n      <th>6</th>\n      <td>8</td>\n      <td>1</td>\n      <td>11536</td>\n      <td>339389</td>\n      <td>46855.17</td>\n    </tr>\n    <tr>\n      <th>7</th>\n      <td>10</td>\n      <td>1</td>\n      <td>339389</td>\n      <td>628883</td>\n      <td>63007.00</td>\n    </tr>\n    <tr>\n      <th>8</th>\n      <td>12</td>\n      <td>1</td>\n      <td>628883</td>\n      <td>628492</td>\n      <td>23232.00</td>\n    </tr>\n    <tr>\n      <th>9</th>\n      <td>14</td>\n      <td>1</td>\n      <td>628492</td>\n      <td>641537</td>\n      <td>61197.00</td>\n    </tr>\n    <tr>\n      <th>10</th>\n      <td>16</td>\n      <td>1</td>\n      <td>641537</td>\n      <td>642111</td>\n      <td>54577.00</td>\n    </tr>\n    <tr>\n      <th>11</th>\n      <td>18</td>\n      <td>1</td>\n      <td>642111</td>\n      <td>642119</td>\n      <td>58823.00</td>\n    </tr>\n    <tr>\n      <th>12</th>\n      <td>19</td>\n      <td>1</td>\n      <td>642119</td>\n      <td>167096</td>\n      <td>42185.00</td>\n    </tr>\n    <tr>\n      <th>13</th>\n      <td>21</td>\n      <td>1</td>\n      <td>167096</td>\n      <td>167058</td>\n      <td>50071.00</td>\n    </tr>\n    <tr>\n      <th>14</th>\n      <td>22</td>\n      <td>1</td>\n      <td>167058</td>\n      <td>617452</td>\n      <td>45473.00</td>\n    </tr>\n    <tr>\n      <th>15</th>\n      <td>23</td>\n      <td>1</td>\n      <td>617452</td>\n      <td>167047</td>\n      <td>27404.00</td>\n    </tr>\n    <tr>\n      <th>16</th>\n      <td>27</td>\n      <td>1</td>\n      <td>167047</td>\n      <td>205640</td>\n      <td>47970.00</td>\n    </tr>\n    <tr>\n      <th>17</th>\n      <td>29</td>\n      <td>1</td>\n      <td>205640</td>\n      <td>205644</td>\n      <td>38931.00</td>\n    </tr>\n    <tr>\n      <th>18</th>\n      <td>31</td>\n      <td>1</td>\n      <td>205644</td>\n      <td>583038</td>\n      <td>38042.00</td>\n    </tr>\n    <tr>\n      <th>19</th>\n      <td>33</td>\n      <td>1</td>\n      <td>583038</td>\n      <td>46642</td>\n      <td>54249.00</td>\n    </tr>\n  </tbody>\n</table>\n</div>"
     },
     "metadata": {},
     "execution_count": 42
    }
   ],
   "source": [
    "mex_osm = pd.read_csv('tokyo_mex_start_end_nodes.csv')\n",
    "group_measures = pd.read_csv('group_measure.csv')\n",
    "group_measures = pd.merge(group_measures, mex_osm[['start', 'end', 'obs_grp_id']], how='left', left_on='obs_grp', right_on='obs_grp_id')\n",
    "group_measures = group_measures[['obs_grp', 'dir', 'start', 'end', 'Ｑ']]\n",
    "group_measures.head(20)"
   ]
  },
  {
   "cell_type": "code",
   "execution_count": 7,
   "metadata": {},
   "outputs": [],
   "source": [
    "import scipy.sparse as ssparse\n",
    "from ctypes import *\n",
    "import scipy.io as sio\n",
    "\n",
    "sys.path.insert(0, '/home/bingyu')\n",
    "from sp import interface"
   ]
  },
  {
   "cell_type": "code",
   "execution_count": 9,
   "metadata": {},
   "outputs": [],
   "source": [
    "links_df0 = pd.read_csv('../osm/tokyo_edges.csv')\n",
    "links_df0['fft'] = links_df0['length']/links_df0['maxmph']*2.237\n",
    "links_df0['fft'] = np.where(links_df0['type'].isin(['motorway', 'motorway_link']), links_df0['fft']*0.1, links_df0['fft'])\n",
    "nodes_df0 = pd.read_csv('../osm/tokyo_nodes.csv')\n",
    "\n",
    "wgh = links_df0['fft']\n",
    "row = links_df0['start_igraph']\n",
    "col = links_df0['end_igraph']\n",
    "g_coo = ssparse.coo_matrix((wgh, (row, col)), shape=(nodes_df0.shape[0], nodes_df0.shape[0]))\n",
    "sio.mmwrite('network_sparse_mex_analysis.mtx', g_coo)\n",
    "g = interface.readgraph(bytes('network_sparse_mex_analysis.mtx', encoding='utf-8'))\n"
   ]
  },
  {
   "cell_type": "code",
   "execution_count": 76,
   "metadata": {},
   "outputs": [],
   "source": [
    "links_df0['fft2'] = links_df0['fft']*1.2\n",
    "links_df0[[\"edge_id_igraph\", \"start_igraph\", \"end_igraph\", \"fft2\"]].to_csv('../osm/tokyo_edges_discount.csv', index=False)"
   ]
  },
  {
   "cell_type": "code",
   "execution_count": 100,
   "metadata": {
    "tags": []
   },
   "outputs": [
    {
     "output_type": "stream",
     "name": "stdout",
     "text": "(449159, 2)\n9625.961086562576\n"
    }
   ],
   "source": [
    "### add geometry\n",
    "quarter_edge_vol = pd.read_csv('../simulation_outputs/edge_vol_distance/small_edge_vol_h{}_q{}.csv'.format(5, 0))\n",
    "print(quarter_edge_vol.shape)\n",
    "quarter_edge_vol = pd.merge(quarter_edge_vol, links_df0[['edge_id_igraph', 'length', 'geometry']], how='left', left_on='edgeid', right_on='edge_id_igraph')\n",
    "print(np.sum(quarter_edge_vol['length']*quarter_edge_vol['vol'])/19876)\n",
    "# quarter_edge_vol.to_csv('../simulation_outputs/edge_vol_geom/edge_vol_discount_geom_h{}_q{}.csv'.format(5, 0))"
   ]
  },
  {
   "cell_type": "code",
   "execution_count": 56,
   "metadata": {},
   "outputs": [
    {
     "output_type": "execute_result",
     "data": {
      "text/plain": "   agent_id  node_id_igraph_O  node_id_igraph_D  hour  node_id_igraph_O  \\\n0         0            671847            149554    10            671847   \n1         1            420918            262011    20            420918   \n2         2            280657             60268    11            280657   \n3         3            527117            247736    20            527117   \n4         4             20453            175092     7             20453   \n\n   node_osmid_O       lon_O      lat_O signal_O  node_id_igraph_D  \\\n0    6161361393  139.551513  35.741041      NaN            149554   \n1    5351118925  139.497777  35.760877      NaN            262011   \n2    3874301808  139.481140  35.900206      NaN             60268   \n3    1014530112  139.701100  35.657521      NaN            247736   \n4     302055617  139.719520  35.680052      NaN            175092   \n\n   node_osmid_D       lon_D      lat_D signal_D  \n0    5302060801  139.538243  35.722554      NaN  \n1     659312275  139.522262  35.690114      NaN  \n2    6396504346  139.483163  35.892384      NaN  \n3     309049161  139.674824  35.666698      NaN  \n4    1160264526  139.620114  35.691736      NaN  ",
      "text/html": "<div>\n<style scoped>\n    .dataframe tbody tr th:only-of-type {\n        vertical-align: middle;\n    }\n\n    .dataframe tbody tr th {\n        vertical-align: top;\n    }\n\n    .dataframe thead th {\n        text-align: right;\n    }\n</style>\n<table border=\"1\" class=\"dataframe\">\n  <thead>\n    <tr style=\"text-align: right;\">\n      <th></th>\n      <th>agent_id</th>\n      <th>node_id_igraph_O</th>\n      <th>node_id_igraph_D</th>\n      <th>hour</th>\n      <th>node_id_igraph_O</th>\n      <th>node_osmid_O</th>\n      <th>lon_O</th>\n      <th>lat_O</th>\n      <th>signal_O</th>\n      <th>node_id_igraph_D</th>\n      <th>node_osmid_D</th>\n      <th>lon_D</th>\n      <th>lat_D</th>\n      <th>signal_D</th>\n    </tr>\n  </thead>\n  <tbody>\n    <tr>\n      <th>0</th>\n      <td>0</td>\n      <td>671847</td>\n      <td>149554</td>\n      <td>10</td>\n      <td>671847</td>\n      <td>6161361393</td>\n      <td>139.551513</td>\n      <td>35.741041</td>\n      <td>NaN</td>\n      <td>149554</td>\n      <td>5302060801</td>\n      <td>139.538243</td>\n      <td>35.722554</td>\n      <td>NaN</td>\n    </tr>\n    <tr>\n      <th>1</th>\n      <td>1</td>\n      <td>420918</td>\n      <td>262011</td>\n      <td>20</td>\n      <td>420918</td>\n      <td>5351118925</td>\n      <td>139.497777</td>\n      <td>35.760877</td>\n      <td>NaN</td>\n      <td>262011</td>\n      <td>659312275</td>\n      <td>139.522262</td>\n      <td>35.690114</td>\n      <td>NaN</td>\n    </tr>\n    <tr>\n      <th>2</th>\n      <td>2</td>\n      <td>280657</td>\n      <td>60268</td>\n      <td>11</td>\n      <td>280657</td>\n      <td>3874301808</td>\n      <td>139.481140</td>\n      <td>35.900206</td>\n      <td>NaN</td>\n      <td>60268</td>\n      <td>6396504346</td>\n      <td>139.483163</td>\n      <td>35.892384</td>\n      <td>NaN</td>\n    </tr>\n    <tr>\n      <th>3</th>\n      <td>3</td>\n      <td>527117</td>\n      <td>247736</td>\n      <td>20</td>\n      <td>527117</td>\n      <td>1014530112</td>\n      <td>139.701100</td>\n      <td>35.657521</td>\n      <td>NaN</td>\n      <td>247736</td>\n      <td>309049161</td>\n      <td>139.674824</td>\n      <td>35.666698</td>\n      <td>NaN</td>\n    </tr>\n    <tr>\n      <th>4</th>\n      <td>4</td>\n      <td>20453</td>\n      <td>175092</td>\n      <td>7</td>\n      <td>20453</td>\n      <td>302055617</td>\n      <td>139.719520</td>\n      <td>35.680052</td>\n      <td>NaN</td>\n      <td>175092</td>\n      <td>1160264526</td>\n      <td>139.620114</td>\n      <td>35.691736</td>\n      <td>NaN</td>\n    </tr>\n  </tbody>\n</table>\n</div>"
     },
     "metadata": {},
     "execution_count": 56
    }
   ],
   "source": [
    "demand_file = pd.read_csv('../osm/tokyo_demands_0.csv')\n",
    "demand_file = pd.merge(demand_file, nodes_df0, how='left', left_on='node_id_igraph_O', right_on='node_id_igraph')\n",
    "demand_file = pd.merge(demand_file, nodes_df0, how='left', left_on='node_id_igraph_D', right_on='node_id_igraph', suffixes=['_O', '_D'])\n",
    "demand_file.head()"
   ]
  },
  {
   "cell_type": "code",
   "execution_count": 57,
   "metadata": {
    "tags": []
   },
   "outputs": [
    {
     "output_type": "stream",
     "name": "stdout",
     "text": "7662.484986717428\n"
    }
   ],
   "source": [
    "### trip distance straightline\n",
    "import haversine\n",
    "dist = haversine.haversine(demand_file['lon_O'], demand_file['lat_O'], demand_file['lon_D'], demand_file['lat_D'])\n",
    "print(np.mean(dist))"
   ]
  },
  {
   "cell_type": "code",
   "execution_count": 85,
   "metadata": {
    "tags": []
   },
   "outputs": [
    {
     "output_type": "execute_result",
     "data": {
      "text/plain": "   obs_grp_id  start_igraph  end_igraph  edge_id_igraph      length\n0           0        139096      206766         1458307  789.702933\n1           0        206766      204000            7893  155.144367\n2           0        204000      203569         1401172  144.315274\n3           1        251226      314947            7895   72.258353\n4           1        314947      139096         1458306  106.790187",
      "text/html": "<div>\n<style scoped>\n    .dataframe tbody tr th:only-of-type {\n        vertical-align: middle;\n    }\n\n    .dataframe tbody tr th {\n        vertical-align: top;\n    }\n\n    .dataframe thead th {\n        text-align: right;\n    }\n</style>\n<table border=\"1\" class=\"dataframe\">\n  <thead>\n    <tr style=\"text-align: right;\">\n      <th></th>\n      <th>obs_grp_id</th>\n      <th>start_igraph</th>\n      <th>end_igraph</th>\n      <th>edge_id_igraph</th>\n      <th>length</th>\n    </tr>\n  </thead>\n  <tbody>\n    <tr>\n      <th>0</th>\n      <td>0</td>\n      <td>139096</td>\n      <td>206766</td>\n      <td>1458307</td>\n      <td>789.702933</td>\n    </tr>\n    <tr>\n      <th>1</th>\n      <td>0</td>\n      <td>206766</td>\n      <td>204000</td>\n      <td>7893</td>\n      <td>155.144367</td>\n    </tr>\n    <tr>\n      <th>2</th>\n      <td>0</td>\n      <td>204000</td>\n      <td>203569</td>\n      <td>1401172</td>\n      <td>144.315274</td>\n    </tr>\n    <tr>\n      <th>3</th>\n      <td>1</td>\n      <td>251226</td>\n      <td>314947</td>\n      <td>7895</td>\n      <td>72.258353</td>\n    </tr>\n    <tr>\n      <th>4</th>\n      <td>1</td>\n      <td>314947</td>\n      <td>139096</td>\n      <td>1458306</td>\n      <td>106.790187</td>\n    </tr>\n  </tbody>\n</table>\n</div>"
     },
     "metadata": {},
     "execution_count": 85
    }
   ],
   "source": [
    "obs_grp_edge_list = []\n",
    "for row in group_measures.itertuples():\n",
    "    obs_grp_id = getattr(row, 'obs_grp')\n",
    "    dir = getattr(row, 'dir')\n",
    "    if dir == 1:\n",
    "        start_igraph = getattr(row, 'end')\n",
    "        end_igraph = getattr(row, 'start')\n",
    "    elif dir == 2:\n",
    "        start_igraph = getattr(row, 'start')\n",
    "        end_igraph = getattr(row, 'end')\n",
    "    else:\n",
    "        print('invalid direction')\n",
    "    # print(start_igraph, end_igraph)\n",
    "\n",
    "    sp = g.dijkstra(start_igraph+1, end_igraph+1)\n",
    "    sp_dist = sp.distance(end_igraph+1)\n",
    "    if sp_dist > 10e7:\n",
    "        print('route not found')\n",
    "        sp.clear()\n",
    "    else:\n",
    "        sp_route = sp.route(end_igraph+1)\n",
    "        route_igraph = [(start_sp-1, end_sp-1) for (start_sp, end_sp) in sp_route]\n",
    "        obs_grp_edge_list += [(obs_grp_id, start, end) for (start, end) in route_igraph]\n",
    "        sp.clear()\n",
    "\n",
    "obs_grp_edge_df = pd.DataFrame(obs_grp_edge_list, columns=['obs_grp_id', 'start_igraph', 'end_igraph'])\n",
    "# print(obs_grp_edge_df.groupby('obs_grp_id').size())\n",
    "obs_grp_edge_df = pd.merge(obs_grp_edge_df, links_df0[['start_igraph', 'end_igraph', 'edge_id_igraph', 'length']], how='left', on=['start_igraph', 'end_igraph'])\n",
    "obs_grp_edge_df.head()"
   ]
  },
  {
   "cell_type": "code",
   "execution_count": 104,
   "metadata": {
    "tags": []
   },
   "outputs": [
    {
     "output_type": "execute_result",
     "data": {
      "text/plain": "     obs_grp_id  edge_id_igraph       length  daily_vol\n298          61             211  1325.302875      215.0\n297          61         1164751    60.669454      215.0\n299          61             150    60.102157      215.0\n248          57         1140632   847.686902      158.0\n244          57            7823    52.256742      155.0",
      "text/html": "<div>\n<style scoped>\n    .dataframe tbody tr th:only-of-type {\n        vertical-align: middle;\n    }\n\n    .dataframe tbody tr th {\n        vertical-align: top;\n    }\n\n    .dataframe thead th {\n        text-align: right;\n    }\n</style>\n<table border=\"1\" class=\"dataframe\">\n  <thead>\n    <tr style=\"text-align: right;\">\n      <th></th>\n      <th>obs_grp_id</th>\n      <th>edge_id_igraph</th>\n      <th>length</th>\n      <th>daily_vol</th>\n    </tr>\n  </thead>\n  <tbody>\n    <tr>\n      <th>298</th>\n      <td>61</td>\n      <td>211</td>\n      <td>1325.302875</td>\n      <td>215.0</td>\n    </tr>\n    <tr>\n      <th>297</th>\n      <td>61</td>\n      <td>1164751</td>\n      <td>60.669454</td>\n      <td>215.0</td>\n    </tr>\n    <tr>\n      <th>299</th>\n      <td>61</td>\n      <td>150</td>\n      <td>60.102157</td>\n      <td>215.0</td>\n    </tr>\n    <tr>\n      <th>248</th>\n      <td>57</td>\n      <td>1140632</td>\n      <td>847.686902</td>\n      <td>158.0</td>\n    </tr>\n    <tr>\n      <th>244</th>\n      <td>57</td>\n      <td>7823</td>\n      <td>52.256742</td>\n      <td>155.0</td>\n    </tr>\n  </tbody>\n</table>\n</div>"
     },
     "metadata": {},
     "execution_count": 104
    }
   ],
   "source": [
    "daily_edge_vol = obs_grp_edge_df.copy()\n",
    "daily_edge_vol = daily_edge_vol.drop_duplicates(subset='edge_id_igraph')\n",
    "daily_edge_vol['daily_vol'] = 0\n",
    "for hour in range(5,6):\n",
    "    for quarter in range(1):\n",
    "        quarter_edge_vol = pd.read_csv('../simulation_outputs/edge_vol/edge_vol_h{}_q{}.csv'.format(hour, quarter))\n",
    "        quarter_edge_vol = quarter_edge_vol.loc[quarter_edge_vol['edgeid'].isin(daily_edge_vol['edge_id_igraph'])]\n",
    "        daily_edge_vol = pd.merge(daily_edge_vol, quarter_edge_vol, how='left', left_on='edge_id_igraph', right_on='edgeid')\n",
    "        daily_edge_vol['daily_vol'] += daily_edge_vol.fillna(value={'vol': 0})['vol']\n",
    "        daily_edge_vol = daily_edge_vol[['obs_grp_id', 'edge_id_igraph', 'length', 'daily_vol']]\n",
    "        # break\n",
    "    # break\n",
    "daily_edge_vol.sort_values(by='daily_vol', ascending=False).head()"
   ]
  },
  {
   "cell_type": "code",
   "execution_count": 78,
   "metadata": {
    "tags": []
   },
   "outputs": [
    {
     "output_type": "execute_result",
     "data": {
      "text/plain": "type\nmotorway         363\nmotorway_link     26\nprimary            4\nsecondary          1\ndtype: int64"
     },
     "metadata": {},
     "execution_count": 78
    }
   ],
   "source": [
    "daily_edge_vol = daily_edge_vol.merge(links_df0[['edge_id_igraph', 'type']], how='left', on='edge_id_igraph')\n",
    "daily_edge_vol.groupby('type').size()"
   ]
  },
  {
   "cell_type": "code",
   "execution_count": null,
   "metadata": {},
   "outputs": [],
   "source": []
  }
 ]
}