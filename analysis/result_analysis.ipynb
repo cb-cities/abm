{
 "metadata": {
  "language_info": {
   "codemirror_mode": {
    "name": "ipython",
    "version": 3
   },
   "file_extension": ".py",
   "mimetype": "text/x-python",
   "name": "python",
   "nbconvert_exporter": "python",
   "pygments_lexer": "ipython3",
   "version": 3
  },
  "orig_nbformat": 2,
  "kernelspec": {
   "name": "python_defaultSpec_1597243275004",
   "display_name": "Python 3.7.7 64-bit ('geo': conda)"
  }
 },
 "nbformat": 4,
 "nbformat_minor": 2,
 "cells": [
  {
   "cell_type": "code",
   "execution_count": 6,
   "metadata": {},
   "outputs": [],
   "source": [
    "import numpy as np\n",
    "import pandas as pd\n",
    "import scipy.sparse as ssparse\n",
    "from ctypes import *\n",
    "import scipy.io as sio\n",
    "\n",
    "sys.path.insert(0, '/home/bingyu')\n",
    "from sp import interface"
   ]
  },
  {
   "cell_type": "code",
   "execution_count": 63,
   "metadata": {},
   "outputs": [],
   "source": [
    "links_df0 = pd.read_csv('../osm/tokyo_edges.csv')\n",
    "links_df0['fft'] = links_df0['length']/links_df0['maxmph']*2.237\n",
    "links_df0['fft'] = np.where(links_df0['type'].isin(['motorway', 'motorway_link']), links_df0['fft']*0.1, links_df0['fft'])\n",
    "nodes_df0 = pd.read_csv('../osm/tokyo_nodes.csv')\n",
    "\n",
    "# wgh = links_df0['fft']\n",
    "# row = links_df0['start_igraph']\n",
    "# col = links_df0['end_igraph']\n",
    "# g_coo = ssparse.coo_matrix((wgh, (row, col)), shape=(nodes_df0.shape[0], nodes_df0.shape[0]))\n",
    "# sio.mmwrite('network_sparse_mex_analysis.mtx', g_coo)\n",
    "# g = interface.readgraph(bytes('network_sparse_mex_analysis.mtx', encoding='utf-8'))\n"
   ]
  },
  {
   "cell_type": "code",
   "execution_count": 100,
   "metadata": {
    "tags": []
   },
   "outputs": [
    {
     "output_type": "stream",
     "name": "stdout",
     "text": "(449159, 2)\n9625.961086562576\n"
    }
   ],
   "source": [
    "### add geometry\n",
    "quarter_edge_vol = pd.read_csv('../simulation_outputs/edge_vol_distance/small_edge_vol_h{}_q{}.csv'.format(5, 0))\n",
    "print(quarter_edge_vol.shape)\n",
    "quarter_edge_vol = pd.merge(quarter_edge_vol, links_df0[['edge_id_igraph', 'length', 'geometry']], how='left', left_on='edgeid', right_on='edge_id_igraph')\n",
    "print(np.sum(quarter_edge_vol['length']*quarter_edge_vol['vol'])/19876)\n",
    "# quarter_edge_vol.to_csv('../simulation_outputs/edge_vol_geom/edge_vol_discount_geom_h{}_q{}.csv'.format(5, 0))"
   ]
  },
  {
   "cell_type": "code",
   "execution_count": 64,
   "metadata": {
    "tags": []
   },
   "outputs": [
    {
     "output_type": "stream",
     "name": "stdout",
     "text": "(281, 8)\n(233, 8)\nobs_grp_id\n0      1\n1      1\n3      2\n4      2\n5      1\n      ..\n281    1\n282    1\n283    1\n284    2\n285    3\nLength: 229, dtype: int64\n"
    },
    {
     "output_type": "execute_result",
     "data": {
      "text/plain": "   start_igraph  end_igraph  obs_grp_id  edge_id_igraph       length\n0         92769      111409           0          136131  1243.587507\n1        111409      552397           1          136132  1491.583447\n2        552406       82528           3         1133750   562.926005\n3         82528      526399           3         1133746  1537.544959\n4        526399      616986           4         1133747   306.115010",
      "text/html": "<div>\n<style scoped>\n    .dataframe tbody tr th:only-of-type {\n        vertical-align: middle;\n    }\n\n    .dataframe tbody tr th {\n        vertical-align: top;\n    }\n\n    .dataframe thead th {\n        text-align: right;\n    }\n</style>\n<table border=\"1\" class=\"dataframe\">\n  <thead>\n    <tr style=\"text-align: right;\">\n      <th></th>\n      <th>start_igraph</th>\n      <th>end_igraph</th>\n      <th>obs_grp_id</th>\n      <th>edge_id_igraph</th>\n      <th>length</th>\n    </tr>\n  </thead>\n  <tbody>\n    <tr>\n      <th>0</th>\n      <td>92769</td>\n      <td>111409</td>\n      <td>0</td>\n      <td>136131</td>\n      <td>1243.587507</td>\n    </tr>\n    <tr>\n      <th>1</th>\n      <td>111409</td>\n      <td>552397</td>\n      <td>1</td>\n      <td>136132</td>\n      <td>1491.583447</td>\n    </tr>\n    <tr>\n      <th>2</th>\n      <td>552406</td>\n      <td>82528</td>\n      <td>3</td>\n      <td>1133750</td>\n      <td>562.926005</td>\n    </tr>\n    <tr>\n      <th>3</th>\n      <td>82528</td>\n      <td>526399</td>\n      <td>3</td>\n      <td>1133746</td>\n      <td>1537.544959</td>\n    </tr>\n    <tr>\n      <th>4</th>\n      <td>526399</td>\n      <td>616986</td>\n      <td>4</td>\n      <td>1133747</td>\n      <td>306.115010</td>\n    </tr>\n  </tbody>\n</table>\n</div>"
     },
     "metadata": {},
     "execution_count": 64
    }
   ],
   "source": [
    "### match quarterly measures with osm locations\n",
    "quarterly_measures = pd.read_csv('quarterly_measure.csv')\n",
    "group_measures = quarterly_measures.groupby('obs_grp_id').agg({'start': 'first', 'end': 'first', 'dir': 'first'}).reset_index()\n",
    "g = interface.readgraph(bytes('network_sparse_mex_analysis.mtx', encoding='utf-8'))\n",
    "nodes_df = pd.read_csv('../osm/tokyo_nodes.csv')\n",
    "group_measures = group_measures.merge(nodes_df[['node_osmid', 'node_id_igraph']], how='left', left_on='start', right_on='node_osmid')\n",
    "group_measures = group_measures.merge(nodes_df[['node_osmid', 'node_id_igraph']], how='left', left_on='end', right_on='node_osmid', suffixes=['_start', '_end'])\n",
    "print(group_measures.shape)\n",
    "group_measures = group_measures.dropna(subset=['node_id_igraph_start', 'node_id_igraph_end'])\n",
    "print(group_measures.shape)\n",
    "group_measures['start_igraph'] = group_measures['node_id_igraph_start'].astype(int)\n",
    "group_measures['end_igraph'] = group_measures['node_id_igraph_end'].astype(int)\n",
    "\n",
    "obs_grp_edge_list = []\n",
    "# group_measures2 = group_measures.loc[~group_measures['obs_grp_id'].isin(range(43,88))]\n",
    "for row in group_measures.itertuples():\n",
    "    obs_grp_id = getattr(row, 'obs_grp_id')\n",
    "    dir = getattr(row, 'dir')\n",
    "    if obs_grp_id in [110, 116]:\n",
    "        continue\n",
    "    elif obs_grp_id in range(43,88):\n",
    "        if dir == 2:\n",
    "            start_igraph = getattr(row, 'end_igraph')\n",
    "            end_igraph = getattr(row, 'start_igraph')\n",
    "        elif dir == 1:\n",
    "            start_igraph = getattr(row, 'start_igraph')\n",
    "            end_igraph = getattr(row, 'end_igraph')\n",
    "        else:\n",
    "            print('invalid direction')\n",
    "            print(dir)\n",
    "    else:\n",
    "        if dir == 1:\n",
    "            start_igraph = getattr(row, 'end_igraph')\n",
    "            end_igraph = getattr(row, 'start_igraph')\n",
    "        elif dir == 2:\n",
    "            start_igraph = getattr(row, 'start_igraph')\n",
    "            end_igraph = getattr(row, 'end_igraph')\n",
    "        else:\n",
    "            print('invalid direction')\n",
    "            print(dir)\n",
    "    # print(start_igraph, end_igraph)\n",
    "\n",
    "    try:\n",
    "        sp = g.dijkstra(start_igraph+1, end_igraph+1)\n",
    "    except ArgumentError:\n",
    "        print(end_igraph)\n",
    "    sp_dist = sp.distance(end_igraph+1)\n",
    "    if sp_dist > 10e7:\n",
    "        print('route not found')\n",
    "        sp.clear()\n",
    "    else:\n",
    "        sp_route = sp.route(end_igraph+1)\n",
    "        route_igraph = [(start_sp-1, end_sp-1) for (start_sp, end_sp) in sp_route]\n",
    "        if len(route_igraph)>20:\n",
    "            pass\n",
    "        else:\n",
    "            obs_grp_edge_list += [(start, end, obs_grp_id) for (start, end) in route_igraph]\n",
    "        sp.clear()\n",
    "\n",
    "obs_grp_edge_df = pd.DataFrame(obs_grp_edge_list, columns=['start_igraph', 'end_igraph', 'obs_grp_id'])\n",
    "print(obs_grp_edge_df.groupby('obs_grp_id').size())\n",
    "obs_grp_edge_df = pd.merge(obs_grp_edge_df, links_df0[['start_igraph', 'end_igraph', 'edge_id_igraph', 'length']], how='left', on=['start_igraph', 'end_igraph'])\n",
    "# obs_grp_edge_df.groupby(['start_igraph', 'end_igraph']).size().reset_index()\n",
    "obs_grp_edge_df.head()"
   ]
  },
  {
   "cell_type": "code",
   "execution_count": 72,
   "metadata": {},
   "outputs": [
    {
     "output_type": "execute_result",
     "data": {
      "text/plain": "    obs_grp_id        Q\n50          50  28037.9",
      "text/html": "<div>\n<style scoped>\n    .dataframe tbody tr th:only-of-type {\n        vertical-align: middle;\n    }\n\n    .dataframe tbody tr th {\n        vertical-align: top;\n    }\n\n    .dataframe thead th {\n        text-align: right;\n    }\n</style>\n<table border=\"1\" class=\"dataframe\">\n  <thead>\n    <tr style=\"text-align: right;\">\n      <th></th>\n      <th>obs_grp_id</th>\n      <th>Q</th>\n    </tr>\n  </thead>\n  <tbody>\n    <tr>\n      <th>50</th>\n      <td>50</td>\n      <td>28037.9</td>\n    </tr>\n  </tbody>\n</table>\n</div>"
     },
     "metadata": {},
     "execution_count": 72
    }
   ],
   "source": [
    "### measurements\n",
    "quarterly_measures = pd.read_csv('quarterly_measure.csv')\n",
    "daily_measures = quarterly_measures.groupby('obs_grp_id').agg({'Q': np.sum}).reset_index()\n",
    "daily_measures[daily_measures['obs_grp_id']==50].head()"
   ]
  },
  {
   "cell_type": "code",
   "execution_count": 70,
   "metadata": {
    "tags": []
   },
   "outputs": [
    {
     "output_type": "execute_result",
     "data": {
      "text/plain": "    obs_grp_id  edge_id_igraph       length  daily_vol\n65          44             211  1325.302875      203.0\n64          44         1164751    60.669454      203.0\n66          44             150    60.102157      203.0\n76          50          140599    63.356397      189.0\n77          51         1657330  1693.555618      184.0",
      "text/html": "<div>\n<style scoped>\n    .dataframe tbody tr th:only-of-type {\n        vertical-align: middle;\n    }\n\n    .dataframe tbody tr th {\n        vertical-align: top;\n    }\n\n    .dataframe thead th {\n        text-align: right;\n    }\n</style>\n<table border=\"1\" class=\"dataframe\">\n  <thead>\n    <tr style=\"text-align: right;\">\n      <th></th>\n      <th>obs_grp_id</th>\n      <th>edge_id_igraph</th>\n      <th>length</th>\n      <th>daily_vol</th>\n    </tr>\n  </thead>\n  <tbody>\n    <tr>\n      <th>65</th>\n      <td>44</td>\n      <td>211</td>\n      <td>1325.302875</td>\n      <td>203.0</td>\n    </tr>\n    <tr>\n      <th>64</th>\n      <td>44</td>\n      <td>1164751</td>\n      <td>60.669454</td>\n      <td>203.0</td>\n    </tr>\n    <tr>\n      <th>66</th>\n      <td>44</td>\n      <td>150</td>\n      <td>60.102157</td>\n      <td>203.0</td>\n    </tr>\n    <tr>\n      <th>76</th>\n      <td>50</td>\n      <td>140599</td>\n      <td>63.356397</td>\n      <td>189.0</td>\n    </tr>\n    <tr>\n      <th>77</th>\n      <td>51</td>\n      <td>1657330</td>\n      <td>1693.555618</td>\n      <td>184.0</td>\n    </tr>\n  </tbody>\n</table>\n</div>"
     },
     "metadata": {},
     "execution_count": 70
    }
   ],
   "source": [
    "daily_sim_vol = obs_grp_edge_df.copy()\n",
    "daily_sim_vol = daily_sim_vol.drop_duplicates(subset='edge_id_igraph')\n",
    "daily_sim_vol['daily_vol'] = 0\n",
    "for hour in range(5,6):\n",
    "    for quarter in range(1):\n",
    "        quarter_sim_vol = pd.read_csv('../simulation_outputs/edge_vol/edge_vol_h{}_q{}.csv'.format(hour, quarter))\n",
    "        quarter_sim_vol = quarter_sim_vol.loc[quarter_sim_vol['edgeid'].isin(daily_sim_vol['edge_id_igraph'])]\n",
    "        daily_sim_vol = pd.merge(daily_sim_vol, quarter_sim_vol, how='left', left_on='edge_id_igraph', right_on='edgeid')\n",
    "        daily_sim_vol['daily_vol'] += daily_sim_vol.fillna(value={'vol': 0})['vol']\n",
    "        daily_sim_vol = daily_sim_vol[['obs_grp_id', 'edge_id_igraph', 'length', 'daily_vol']]\n",
    "        # break\n",
    "    # break\n",
    "daily_sim_vol.sort_values(by='daily_vol', ascending=False).head()"
   ]
  },
  {
   "cell_type": "code",
   "execution_count": 78,
   "metadata": {
    "tags": []
   },
   "outputs": [
    {
     "output_type": "execute_result",
     "data": {
      "text/plain": "type\nmotorway         363\nmotorway_link     26\nprimary            4\nsecondary          1\ndtype: int64"
     },
     "metadata": {},
     "execution_count": 78
    }
   ],
   "source": [
    "daily_edge_vol = daily_edge_vol.merge(links_df0[['edge_id_igraph', 'type']], how='left', on='edge_id_igraph')\n",
    "daily_edge_vol.groupby('type').size()"
   ]
  },
  {
   "cell_type": "code",
   "execution_count": null,
   "metadata": {},
   "outputs": [],
   "source": []
  }
 ]
}